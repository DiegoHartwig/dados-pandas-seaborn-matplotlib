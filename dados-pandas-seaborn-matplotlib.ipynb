{
 "cells": [
  {
   "cell_type": "markdown",
   "metadata": {},
   "source": [
    "## Parte 1 - Importação das bibliotecas utilizadas\n"
   ]
  },
  {
   "cell_type": "code",
   "execution_count": 14,
   "metadata": {},
   "outputs": [],
   "source": [
    "# Importação da biblioteca Pandas para manipulação dos dados\n",
    "import pandas as pd\n",
    "\n",
    "# Biblioteca Seaborn para criação de gráficos\n",
    "import seaborn as sns\n",
    "\n",
    "# Biblioteca Matplotlib para criação de gráficos\n",
    "import matplotlib.pyplot as plt\n",
    "\n",
    "# Biblioteca para ignorar mensagens de avisos (warning) ao rodar uma cédula de código\n",
    "import warnings\n",
    "warnings.filterwarnings('ignore')"
   ]
  },
  {
   "cell_type": "markdown",
   "metadata": {},
   "source": [
    "---\n",
    "## Parte 2 - Importação dos Dados"
   ]
  },
  {
   "cell_type": "code",
   "execution_count": 22,
   "metadata": {},
   "outputs": [],
   "source": [
    "# Função read_csv para importar os dados do diretório do computador\n",
    "dados = pd.read_csv('dados_salarial_funcionarios.csv')"
   ]
  },
  {
   "cell_type": "code",
   "execution_count": null,
   "metadata": {},
   "outputs": [],
   "source": [
    "# Listando o nome das colunas\n",
    "dados.columns"
   ]
  },
  {
   "cell_type": "code",
   "execution_count": 24,
   "metadata": {},
   "outputs": [
    {
     "data": {
      "text/html": [
       "<div>\n",
       "<style scoped>\n",
       "    .dataframe tbody tr th:only-of-type {\n",
       "        vertical-align: middle;\n",
       "    }\n",
       "\n",
       "    .dataframe tbody tr th {\n",
       "        vertical-align: top;\n",
       "    }\n",
       "\n",
       "    .dataframe thead th {\n",
       "        text-align: right;\n",
       "    }\n",
       "</style>\n",
       "<table border=\"1\" class=\"dataframe\">\n",
       "  <thead>\n",
       "    <tr style=\"text-align: right;\">\n",
       "      <th></th>\n",
       "      <th>Idade</th>\n",
       "      <th>Genero</th>\n",
       "      <th>Nivel Ensino</th>\n",
       "      <th>Area Formacao</th>\n",
       "      <th>Setor</th>\n",
       "      <th>Nivel</th>\n",
       "      <th>Faixa Salarial</th>\n",
       "      <th>Anos experiencia</th>\n",
       "      <th>Faixa Salarial – numero</th>\n",
       "      <th>Data ultimo aumento</th>\n",
       "    </tr>\n",
       "  </thead>\n",
       "  <tbody>\n",
       "    <tr>\n",
       "      <th>0</th>\n",
       "      <td>38</td>\n",
       "      <td>Masculino</td>\n",
       "      <td>Pós-graduação</td>\n",
       "      <td>Química / Física</td>\n",
       "      <td>Marketing</td>\n",
       "      <td>Gestor</td>\n",
       "      <td>de R$ 4.001/mês a R$ 6.000/mês</td>\n",
       "      <td>Mais de 10 anos</td>\n",
       "      <td>6000</td>\n",
       "      <td>02/01/21</td>\n",
       "    </tr>\n",
       "    <tr>\n",
       "      <th>1</th>\n",
       "      <td>39</td>\n",
       "      <td>Masculino</td>\n",
       "      <td>Pós-graduação</td>\n",
       "      <td>Economia/ Administração / Contabilidade / Fina...</td>\n",
       "      <td>Consultoria</td>\n",
       "      <td>Gestor</td>\n",
       "      <td>de R$ 6.001/mês a R$ 8.000/mês</td>\n",
       "      <td>de 2 a 3 anos</td>\n",
       "      <td>8000</td>\n",
       "      <td>06/04/21</td>\n",
       "    </tr>\n",
       "    <tr>\n",
       "      <th>2</th>\n",
       "      <td>30</td>\n",
       "      <td>Masculino</td>\n",
       "      <td>Pós-graduação</td>\n",
       "      <td>Computação / Engenharia de Software / Sistemas...</td>\n",
       "      <td>Indústria</td>\n",
       "      <td>Gestor</td>\n",
       "      <td>de R$ 8.001/mês a R$ 12.000/mês</td>\n",
       "      <td>de 1 a 2 anos</td>\n",
       "      <td>12000</td>\n",
       "      <td>15/04/23</td>\n",
       "    </tr>\n",
       "    <tr>\n",
       "      <th>3</th>\n",
       "      <td>38</td>\n",
       "      <td>Feminino</td>\n",
       "      <td>Pós-graduação</td>\n",
       "      <td>Outras</td>\n",
       "      <td>Serviços</td>\n",
       "      <td>Gestor</td>\n",
       "      <td>de R$ 12.001/mês a R$ 16.000/mês</td>\n",
       "      <td>Mais de 10 anos</td>\n",
       "      <td>16000</td>\n",
       "      <td>04/06/21</td>\n",
       "    </tr>\n",
       "    <tr>\n",
       "      <th>4</th>\n",
       "      <td>36</td>\n",
       "      <td>Masculino</td>\n",
       "      <td>Pós-graduação</td>\n",
       "      <td>Outras Engenharias</td>\n",
       "      <td>Varejo</td>\n",
       "      <td>Gestor</td>\n",
       "      <td>de R$ 8.001/mês a R$ 12.000/mês</td>\n",
       "      <td>de 1 a 2 anos</td>\n",
       "      <td>12000</td>\n",
       "      <td>22/03/23</td>\n",
       "    </tr>\n",
       "  </tbody>\n",
       "</table>\n",
       "</div>"
      ],
      "text/plain": [
       "   Idade     Genero   Nivel Ensino  \\\n",
       "0     38  Masculino  Pós-graduação   \n",
       "1     39  Masculino  Pós-graduação   \n",
       "2     30  Masculino  Pós-graduação   \n",
       "3     38   Feminino  Pós-graduação   \n",
       "4     36  Masculino  Pós-graduação   \n",
       "\n",
       "                                       Area Formacao        Setor   Nivel  \\\n",
       "0                                   Química / Física    Marketing  Gestor   \n",
       "1  Economia/ Administração / Contabilidade / Fina...  Consultoria  Gestor   \n",
       "2  Computação / Engenharia de Software / Sistemas...    Indústria  Gestor   \n",
       "3                                             Outras     Serviços  Gestor   \n",
       "4                                 Outras Engenharias       Varejo  Gestor   \n",
       "\n",
       "                     Faixa Salarial Anos experiencia  Faixa Salarial – numero  \\\n",
       "0    de R$ 4.001/mês a R$ 6.000/mês  Mais de 10 anos                     6000   \n",
       "1    de R$ 6.001/mês a R$ 8.000/mês    de 2 a 3 anos                     8000   \n",
       "2   de R$ 8.001/mês a R$ 12.000/mês    de 1 a 2 anos                    12000   \n",
       "3  de R$ 12.001/mês a R$ 16.000/mês  Mais de 10 anos                    16000   \n",
       "4   de R$ 8.001/mês a R$ 12.000/mês    de 1 a 2 anos                    12000   \n",
       "\n",
       "  Data ultimo aumento  \n",
       "0            02/01/21  \n",
       "1            06/04/21  \n",
       "2            15/04/23  \n",
       "3            04/06/21  \n",
       "4            22/03/23  "
      ]
     },
     "execution_count": 24,
     "metadata": {},
     "output_type": "execute_result"
    }
   ],
   "source": [
    "# Imprimindo as 5 primeiras linhas\n",
    "dados.head()"
   ]
  },
  {
   "cell_type": "code",
   "execution_count": 26,
   "metadata": {},
   "outputs": [
    {
     "data": {
      "text/plain": [
       "(1385, 10)"
      ]
     },
     "execution_count": 26,
     "metadata": {},
     "output_type": "execute_result"
    }
   ],
   "source": [
    "# Observando número de linhas e colunas\n",
    "dados.shape"
   ]
  },
  {
   "cell_type": "markdown",
   "metadata": {},
   "source": [
    "---\n",
    "## Parte 3: Análise Exploratória dos Dados(AED)"
   ]
  },
  {
   "cell_type": "markdown",
   "metadata": {},
   "source": [
    "### Ter uma primeira visão sobre os dados e extrair os primeiros insights"
   ]
  },
  {
   "cell_type": "code",
   "execution_count": 27,
   "metadata": {},
   "outputs": [
    {
     "data": {
      "text/plain": [
       "Idade                       int64\n",
       "Genero                     object\n",
       "Nivel Ensino               object\n",
       "Area Formacao              object\n",
       "Setor                      object\n",
       "Nivel                      object\n",
       "Faixa Salarial             object\n",
       "Anos experiencia           object\n",
       "Faixa Salarial – numero     int64\n",
       "Data ultimo aumento        object\n",
       "dtype: object"
      ]
     },
     "execution_count": 27,
     "metadata": {},
     "output_type": "execute_result"
    }
   ],
   "source": [
    "# Imprime o tipo de dado em cada coluna: object - variáveis categóricas, float64 e int64 - variáveis numéricas\n",
    "dados.dtypes"
   ]
  },
  {
   "cell_type": "code",
   "execution_count": 28,
   "metadata": {},
   "outputs": [],
   "source": [
    "# Convertendo o campo Data para datetime, utilizando a função to_datetime do Pandas\n",
    "dados['Data ultimo aumento'] = pd.to_datetime(dados['Data ultimo aumento'])"
   ]
  },
  {
   "cell_type": "code",
   "execution_count": 29,
   "metadata": {},
   "outputs": [
    {
     "data": {
      "text/html": [
       "<div>\n",
       "<style scoped>\n",
       "    .dataframe tbody tr th:only-of-type {\n",
       "        vertical-align: middle;\n",
       "    }\n",
       "\n",
       "    .dataframe tbody tr th {\n",
       "        vertical-align: top;\n",
       "    }\n",
       "\n",
       "    .dataframe thead th {\n",
       "        text-align: right;\n",
       "    }\n",
       "</style>\n",
       "<table border=\"1\" class=\"dataframe\">\n",
       "  <thead>\n",
       "    <tr style=\"text-align: right;\">\n",
       "      <th></th>\n",
       "      <th>Idade</th>\n",
       "      <th>Genero</th>\n",
       "      <th>Nivel Ensino</th>\n",
       "      <th>Area Formacao</th>\n",
       "      <th>Setor</th>\n",
       "      <th>Nivel</th>\n",
       "      <th>Faixa Salarial</th>\n",
       "      <th>Anos experiencia</th>\n",
       "      <th>Faixa Salarial – numero</th>\n",
       "      <th>Data ultimo aumento</th>\n",
       "    </tr>\n",
       "  </thead>\n",
       "  <tbody>\n",
       "    <tr>\n",
       "      <th>0</th>\n",
       "      <td>38</td>\n",
       "      <td>Masculino</td>\n",
       "      <td>Pós-graduação</td>\n",
       "      <td>Química / Física</td>\n",
       "      <td>Marketing</td>\n",
       "      <td>Gestor</td>\n",
       "      <td>de R$ 4.001/mês a R$ 6.000/mês</td>\n",
       "      <td>Mais de 10 anos</td>\n",
       "      <td>6000</td>\n",
       "      <td>2021-02-01</td>\n",
       "    </tr>\n",
       "    <tr>\n",
       "      <th>1</th>\n",
       "      <td>39</td>\n",
       "      <td>Masculino</td>\n",
       "      <td>Pós-graduação</td>\n",
       "      <td>Economia/ Administração / Contabilidade / Fina...</td>\n",
       "      <td>Consultoria</td>\n",
       "      <td>Gestor</td>\n",
       "      <td>de R$ 6.001/mês a R$ 8.000/mês</td>\n",
       "      <td>de 2 a 3 anos</td>\n",
       "      <td>8000</td>\n",
       "      <td>2021-06-04</td>\n",
       "    </tr>\n",
       "    <tr>\n",
       "      <th>2</th>\n",
       "      <td>30</td>\n",
       "      <td>Masculino</td>\n",
       "      <td>Pós-graduação</td>\n",
       "      <td>Computação / Engenharia de Software / Sistemas...</td>\n",
       "      <td>Indústria</td>\n",
       "      <td>Gestor</td>\n",
       "      <td>de R$ 8.001/mês a R$ 12.000/mês</td>\n",
       "      <td>de 1 a 2 anos</td>\n",
       "      <td>12000</td>\n",
       "      <td>2023-04-15</td>\n",
       "    </tr>\n",
       "    <tr>\n",
       "      <th>3</th>\n",
       "      <td>38</td>\n",
       "      <td>Feminino</td>\n",
       "      <td>Pós-graduação</td>\n",
       "      <td>Outras</td>\n",
       "      <td>Serviços</td>\n",
       "      <td>Gestor</td>\n",
       "      <td>de R$ 12.001/mês a R$ 16.000/mês</td>\n",
       "      <td>Mais de 10 anos</td>\n",
       "      <td>16000</td>\n",
       "      <td>2021-04-06</td>\n",
       "    </tr>\n",
       "    <tr>\n",
       "      <th>4</th>\n",
       "      <td>36</td>\n",
       "      <td>Masculino</td>\n",
       "      <td>Pós-graduação</td>\n",
       "      <td>Outras Engenharias</td>\n",
       "      <td>Varejo</td>\n",
       "      <td>Gestor</td>\n",
       "      <td>de R$ 8.001/mês a R$ 12.000/mês</td>\n",
       "      <td>de 1 a 2 anos</td>\n",
       "      <td>12000</td>\n",
       "      <td>2023-03-22</td>\n",
       "    </tr>\n",
       "  </tbody>\n",
       "</table>\n",
       "</div>"
      ],
      "text/plain": [
       "   Idade     Genero   Nivel Ensino  \\\n",
       "0     38  Masculino  Pós-graduação   \n",
       "1     39  Masculino  Pós-graduação   \n",
       "2     30  Masculino  Pós-graduação   \n",
       "3     38   Feminino  Pós-graduação   \n",
       "4     36  Masculino  Pós-graduação   \n",
       "\n",
       "                                       Area Formacao        Setor   Nivel  \\\n",
       "0                                   Química / Física    Marketing  Gestor   \n",
       "1  Economia/ Administração / Contabilidade / Fina...  Consultoria  Gestor   \n",
       "2  Computação / Engenharia de Software / Sistemas...    Indústria  Gestor   \n",
       "3                                             Outras     Serviços  Gestor   \n",
       "4                                 Outras Engenharias       Varejo  Gestor   \n",
       "\n",
       "                     Faixa Salarial Anos experiencia  Faixa Salarial – numero  \\\n",
       "0    de R$ 4.001/mês a R$ 6.000/mês  Mais de 10 anos                     6000   \n",
       "1    de R$ 6.001/mês a R$ 8.000/mês    de 2 a 3 anos                     8000   \n",
       "2   de R$ 8.001/mês a R$ 12.000/mês    de 1 a 2 anos                    12000   \n",
       "3  de R$ 12.001/mês a R$ 16.000/mês  Mais de 10 anos                    16000   \n",
       "4   de R$ 8.001/mês a R$ 12.000/mês    de 1 a 2 anos                    12000   \n",
       "\n",
       "  Data ultimo aumento  \n",
       "0          2021-02-01  \n",
       "1          2021-06-04  \n",
       "2          2023-04-15  \n",
       "3          2021-04-06  \n",
       "4          2023-03-22  "
      ]
     },
     "execution_count": 29,
     "metadata": {},
     "output_type": "execute_result"
    }
   ],
   "source": [
    "# Verificando a alteração\n",
    "dados.head()"
   ]
  },
  {
   "cell_type": "code",
   "execution_count": 31,
   "metadata": {},
   "outputs": [],
   "source": [
    "# Criando categorias para separar colunas numéricas e categóricas, para facilitar a AED\n",
    "numericas_cols = [col for col in dados.columns if dados[col].dtype != 'object']\n",
    "categoricas_cols = [col for col in dados.columns if dados[col].dtype == 'object']"
   ]
  },
  {
   "cell_type": "code",
   "execution_count": 33,
   "metadata": {},
   "outputs": [
    {
     "data": {
      "text/html": [
       "<div>\n",
       "<style scoped>\n",
       "    .dataframe tbody tr th:only-of-type {\n",
       "        vertical-align: middle;\n",
       "    }\n",
       "\n",
       "    .dataframe tbody tr th {\n",
       "        vertical-align: top;\n",
       "    }\n",
       "\n",
       "    .dataframe thead th {\n",
       "        text-align: right;\n",
       "    }\n",
       "</style>\n",
       "<table border=\"1\" class=\"dataframe\">\n",
       "  <thead>\n",
       "    <tr style=\"text-align: right;\">\n",
       "      <th></th>\n",
       "      <th>Idade</th>\n",
       "      <th>Faixa Salarial – numero</th>\n",
       "      <th>Data ultimo aumento</th>\n",
       "    </tr>\n",
       "  </thead>\n",
       "  <tbody>\n",
       "    <tr>\n",
       "      <th>count</th>\n",
       "      <td>1385.000000</td>\n",
       "      <td>1385.000000</td>\n",
       "      <td>1385</td>\n",
       "    </tr>\n",
       "    <tr>\n",
       "      <th>mean</th>\n",
       "      <td>30.779783</td>\n",
       "      <td>9992.779783</td>\n",
       "      <td>2022-06-15 08:25:17.978339328</td>\n",
       "    </tr>\n",
       "    <tr>\n",
       "      <th>min</th>\n",
       "      <td>18.000000</td>\n",
       "      <td>1000.000000</td>\n",
       "      <td>2021-01-01 00:00:00</td>\n",
       "    </tr>\n",
       "    <tr>\n",
       "      <th>25%</th>\n",
       "      <td>26.000000</td>\n",
       "      <td>6000.000000</td>\n",
       "      <td>2021-09-19 00:00:00</td>\n",
       "    </tr>\n",
       "    <tr>\n",
       "      <th>50%</th>\n",
       "      <td>29.000000</td>\n",
       "      <td>8000.000000</td>\n",
       "      <td>2022-06-09 00:00:00</td>\n",
       "    </tr>\n",
       "    <tr>\n",
       "      <th>75%</th>\n",
       "      <td>34.000000</td>\n",
       "      <td>12000.000000</td>\n",
       "      <td>2023-03-05 00:00:00</td>\n",
       "    </tr>\n",
       "    <tr>\n",
       "      <th>max</th>\n",
       "      <td>54.000000</td>\n",
       "      <td>45000.000000</td>\n",
       "      <td>2023-12-28 00:00:00</td>\n",
       "    </tr>\n",
       "    <tr>\n",
       "      <th>std</th>\n",
       "      <td>6.869018</td>\n",
       "      <td>7353.675097</td>\n",
       "      <td>NaN</td>\n",
       "    </tr>\n",
       "  </tbody>\n",
       "</table>\n",
       "</div>"
      ],
      "text/plain": [
       "             Idade  Faixa Salarial – numero            Data ultimo aumento\n",
       "count  1385.000000              1385.000000                           1385\n",
       "mean     30.779783              9992.779783  2022-06-15 08:25:17.978339328\n",
       "min      18.000000              1000.000000            2021-01-01 00:00:00\n",
       "25%      26.000000              6000.000000            2021-09-19 00:00:00\n",
       "50%      29.000000              8000.000000            2022-06-09 00:00:00\n",
       "75%      34.000000             12000.000000            2023-03-05 00:00:00\n",
       "max      54.000000             45000.000000            2023-12-28 00:00:00\n",
       "std       6.869018              7353.675097                            NaN"
      ]
     },
     "execution_count": 33,
     "metadata": {},
     "output_type": "execute_result"
    }
   ],
   "source": [
    "# Resumo das variáveis numéricas - Imprime alguns valores de medidas de tendências centrais\n",
    "dados[numericas_cols].describe()"
   ]
  },
  {
   "cell_type": "code",
   "execution_count": 34,
   "metadata": {},
   "outputs": [
    {
     "data": {
      "text/html": [
       "<div>\n",
       "<style scoped>\n",
       "    .dataframe tbody tr th:only-of-type {\n",
       "        vertical-align: middle;\n",
       "    }\n",
       "\n",
       "    .dataframe tbody tr th {\n",
       "        vertical-align: top;\n",
       "    }\n",
       "\n",
       "    .dataframe thead th {\n",
       "        text-align: right;\n",
       "    }\n",
       "</style>\n",
       "<table border=\"1\" class=\"dataframe\">\n",
       "  <thead>\n",
       "    <tr style=\"text-align: right;\">\n",
       "      <th></th>\n",
       "      <th>Genero</th>\n",
       "      <th>Nivel Ensino</th>\n",
       "      <th>Area Formacao</th>\n",
       "      <th>Setor</th>\n",
       "      <th>Nivel</th>\n",
       "      <th>Faixa Salarial</th>\n",
       "      <th>Anos experiencia</th>\n",
       "    </tr>\n",
       "  </thead>\n",
       "  <tbody>\n",
       "    <tr>\n",
       "      <th>count</th>\n",
       "      <td>1385</td>\n",
       "      <td>1385</td>\n",
       "      <td>1361</td>\n",
       "      <td>1385</td>\n",
       "      <td>1385</td>\n",
       "      <td>1385</td>\n",
       "      <td>1385</td>\n",
       "    </tr>\n",
       "    <tr>\n",
       "      <th>unique</th>\n",
       "      <td>2</td>\n",
       "      <td>6</td>\n",
       "      <td>9</td>\n",
       "      <td>23</td>\n",
       "      <td>4</td>\n",
       "      <td>13</td>\n",
       "      <td>6</td>\n",
       "    </tr>\n",
       "    <tr>\n",
       "      <th>top</th>\n",
       "      <td>Masculino</td>\n",
       "      <td>Graduação/Bacharelado</td>\n",
       "      <td>Computação / Engenharia de Software / Sistemas...</td>\n",
       "      <td>Tecnologia/Fábrica de Software</td>\n",
       "      <td>Pleno</td>\n",
       "      <td>de R$ 8.001/mês a R$ 12.000/mês</td>\n",
       "      <td>de 2 a 3 anos</td>\n",
       "    </tr>\n",
       "    <tr>\n",
       "      <th>freq</th>\n",
       "      <td>979</td>\n",
       "      <td>495</td>\n",
       "      <td>588</td>\n",
       "      <td>372</td>\n",
       "      <td>440</td>\n",
       "      <td>295</td>\n",
       "      <td>314</td>\n",
       "    </tr>\n",
       "  </tbody>\n",
       "</table>\n",
       "</div>"
      ],
      "text/plain": [
       "           Genero           Nivel Ensino  \\\n",
       "count        1385                   1385   \n",
       "unique          2                      6   \n",
       "top     Masculino  Graduação/Bacharelado   \n",
       "freq          979                    495   \n",
       "\n",
       "                                            Area Formacao  \\\n",
       "count                                                1361   \n",
       "unique                                                  9   \n",
       "top     Computação / Engenharia de Software / Sistemas...   \n",
       "freq                                                  588   \n",
       "\n",
       "                                 Setor  Nivel  \\\n",
       "count                             1385   1385   \n",
       "unique                              23      4   \n",
       "top     Tecnologia/Fábrica de Software  Pleno   \n",
       "freq                               372    440   \n",
       "\n",
       "                         Faixa Salarial Anos experiencia  \n",
       "count                              1385             1385  \n",
       "unique                               13                6  \n",
       "top     de R$ 8.001/mês a R$ 12.000/mês    de 2 a 3 anos  \n",
       "freq                                295              314  "
      ]
     },
     "execution_count": 34,
     "metadata": {},
     "output_type": "execute_result"
    }
   ],
   "source": [
    "# Resumo das variáveis categóricas - Imprime alguns valores de estatística descritiva\n",
    "dados[categoricas_cols].describe()"
   ]
  },
  {
   "cell_type": "code",
   "execution_count": 35,
   "metadata": {},
   "outputs": [
    {
     "data": {
      "text/plain": [
       "Idade                      False\n",
       "Genero                     False\n",
       "Nivel Ensino               False\n",
       "Area Formacao               True\n",
       "Setor                      False\n",
       "Nivel                      False\n",
       "Faixa Salarial             False\n",
       "Anos experiencia           False\n",
       "Faixa Salarial – numero    False\n",
       "Data ultimo aumento        False\n",
       "dtype: bool"
      ]
     },
     "execution_count": 35,
     "metadata": {},
     "output_type": "execute_result"
    }
   ],
   "source": [
    "# Verificando se existem valores faltantes nos dados\n",
    "dados.isna().any()"
   ]
  },
  {
   "cell_type": "code",
   "execution_count": 36,
   "metadata": {},
   "outputs": [
    {
     "data": {
      "text/plain": [
       "Idade                       0\n",
       "Genero                      0\n",
       "Nivel Ensino                0\n",
       "Area Formacao              24\n",
       "Setor                       0\n",
       "Nivel                       0\n",
       "Faixa Salarial              0\n",
       "Anos experiencia            0\n",
       "Faixa Salarial – numero     0\n",
       "Data ultimo aumento         0\n",
       "dtype: int64"
      ]
     },
     "execution_count": 36,
     "metadata": {},
     "output_type": "execute_result"
    }
   ],
   "source": [
    "# Verificando a quantidade de valores faltantes por coluna\n",
    "dados.isna().sum()"
   ]
  },
  {
   "cell_type": "code",
   "execution_count": 37,
   "metadata": {},
   "outputs": [],
   "source": [
    "# Substituir os valores faltantes por \"Nada consta\". Argumento inplace = true significa que a modificação será aplicada\n",
    "# Na mesma variável chamada dados sem precisar criar outra variável\n",
    "dados['Area Formacao'].fillna('Nada Consta', inplace=True)"
   ]
  },
  {
   "cell_type": "code",
   "execution_count": null,
   "metadata": {},
   "outputs": [],
   "source": [
    "# Caso a coluna faltante não for relevante é possivel excluir\n",
    "dados.drop('Area Formacao', axis=1, inplace=True)"
   ]
  },
  {
   "cell_type": "code",
   "execution_count": 38,
   "metadata": {},
   "outputs": [
    {
     "data": {
      "text/plain": [
       "Idade                      0\n",
       "Genero                     0\n",
       "Nivel Ensino               0\n",
       "Area Formacao              0\n",
       "Setor                      0\n",
       "Nivel                      0\n",
       "Faixa Salarial             0\n",
       "Anos experiencia           0\n",
       "Faixa Salarial – numero    0\n",
       "Data ultimo aumento        0\n",
       "dtype: int64"
      ]
     },
     "execution_count": 38,
     "metadata": {},
     "output_type": "execute_result"
    }
   ],
   "source": [
    "# Após as correções verificando se ainda há valores faltantes\n",
    "dados.isna().sum()"
   ]
  },
  {
   "cell_type": "code",
   "execution_count": 39,
   "metadata": {},
   "outputs": [
    {
     "data": {
      "text/plain": [
       "0"
      ]
     },
     "execution_count": 39,
     "metadata": {},
     "output_type": "execute_result"
    }
   ],
   "source": [
    "# Verificando se tem valores duplicados\n",
    "dados.duplicated().sum()"
   ]
  },
  {
   "cell_type": "code",
   "execution_count": null,
   "metadata": {},
   "outputs": [],
   "source": [
    "# Removendo valores duplicados\n",
    "dados.drop_duplicates(inplace=True)"
   ]
  },
  {
   "cell_type": "code",
   "execution_count": 40,
   "metadata": {},
   "outputs": [
    {
     "data": {
      "text/plain": [
       "(1385, 10)"
      ]
     },
     "execution_count": 40,
     "metadata": {},
     "output_type": "execute_result"
    }
   ],
   "source": [
    "# Número de linhas e colunas após mudanças\n",
    "dados.shape"
   ]
  },
  {
   "cell_type": "code",
   "execution_count": 41,
   "metadata": {},
   "outputs": [
    {
     "data": {
      "text/plain": [
       "Nivel\n",
       "Pleno     440\n",
       "Júnior    409\n",
       "Sênior    370\n",
       "Gestor    166\n",
       "Name: count, dtype: int64"
      ]
     },
     "execution_count": 41,
     "metadata": {},
     "output_type": "execute_result"
    }
   ],
   "source": [
    "# Contagem de valores por categoria de 'Nivel'\n",
    "dados['Nivel'].value_counts()"
   ]
  },
  {
   "cell_type": "code",
   "execution_count": 42,
   "metadata": {},
   "outputs": [
    {
     "data": {
      "text/plain": [
       "Faixa Salarial\n",
       "de R$ 8.001/mês a R$ 12.000/mês     295\n",
       "de R$ 6.001/mês a R$ 8.000/mês      255\n",
       "de R$ 4.001/mês a R$ 6.000/mês      242\n",
       "de R$ 12.001/mês a R$ 16.000/mês    140\n",
       "de R$ 3.001/mês a R$ 4.000/mês      113\n",
       "de R$ 2.001/mês a R$ 3000/mês       108\n",
       "de R$ 1.001/mês a R$ 2.000/mês       79\n",
       "de R$ 16.001/mês a R$ 20.000/mês     59\n",
       "de R$ 20.001/mês a R$ 25.000/mês     26\n",
       "de R$ 25.001/mês a R$ 30.000/mês     22\n",
       "Menos de R$ 1.000/mês                19\n",
       "de R$ 30.001/mês a R$ 40.000/mês     18\n",
       "Acima de R$ 40.001/mês                9\n",
       "Name: count, dtype: int64"
      ]
     },
     "execution_count": 42,
     "metadata": {},
     "output_type": "execute_result"
    }
   ],
   "source": [
    "# Contagem de valores por categorias de 'Faixa Salarial'\n",
    "dados['Faixa Salarial'].value_counts()"
   ]
  },
  {
   "cell_type": "code",
   "execution_count": null,
   "metadata": {},
   "outputs": [],
   "source": [
    "# Criando uma nova coluna\n",
    "# Função para calcular a média salarial dos funcionários\n",
    "dados['Média Salarial'] = dados['Faixa Salarial - numero'].mean().round()"
   ]
  },
  {
   "cell_type": "code",
   "execution_count": 44,
   "metadata": {},
   "outputs": [
    {
     "data": {
      "text/html": [
       "<div>\n",
       "<style scoped>\n",
       "    .dataframe tbody tr th:only-of-type {\n",
       "        vertical-align: middle;\n",
       "    }\n",
       "\n",
       "    .dataframe tbody tr th {\n",
       "        vertical-align: top;\n",
       "    }\n",
       "\n",
       "    .dataframe thead th {\n",
       "        text-align: right;\n",
       "    }\n",
       "</style>\n",
       "<table border=\"1\" class=\"dataframe\">\n",
       "  <thead>\n",
       "    <tr style=\"text-align: right;\">\n",
       "      <th></th>\n",
       "      <th>Idade</th>\n",
       "      <th>Genero</th>\n",
       "      <th>Nivel Ensino</th>\n",
       "      <th>Area Formacao</th>\n",
       "      <th>Setor</th>\n",
       "      <th>Nivel</th>\n",
       "      <th>Faixa Salarial</th>\n",
       "      <th>Anos experiencia</th>\n",
       "      <th>Faixa Salarial – numero</th>\n",
       "      <th>Data ultimo aumento</th>\n",
       "    </tr>\n",
       "  </thead>\n",
       "  <tbody>\n",
       "    <tr>\n",
       "      <th>0</th>\n",
       "      <td>38</td>\n",
       "      <td>Masculino</td>\n",
       "      <td>Pós-graduação</td>\n",
       "      <td>Química / Física</td>\n",
       "      <td>Marketing</td>\n",
       "      <td>Gestor</td>\n",
       "      <td>de R$ 4.001/mês a R$ 6.000/mês</td>\n",
       "      <td>Mais de 10 anos</td>\n",
       "      <td>6000</td>\n",
       "      <td>2021-02-01</td>\n",
       "    </tr>\n",
       "    <tr>\n",
       "      <th>1</th>\n",
       "      <td>39</td>\n",
       "      <td>Masculino</td>\n",
       "      <td>Pós-graduação</td>\n",
       "      <td>Economia/ Administração / Contabilidade / Fina...</td>\n",
       "      <td>Consultoria</td>\n",
       "      <td>Gestor</td>\n",
       "      <td>de R$ 6.001/mês a R$ 8.000/mês</td>\n",
       "      <td>de 2 a 3 anos</td>\n",
       "      <td>8000</td>\n",
       "      <td>2021-06-04</td>\n",
       "    </tr>\n",
       "    <tr>\n",
       "      <th>2</th>\n",
       "      <td>30</td>\n",
       "      <td>Masculino</td>\n",
       "      <td>Pós-graduação</td>\n",
       "      <td>Computação / Engenharia de Software / Sistemas...</td>\n",
       "      <td>Indústria</td>\n",
       "      <td>Gestor</td>\n",
       "      <td>de R$ 8.001/mês a R$ 12.000/mês</td>\n",
       "      <td>de 1 a 2 anos</td>\n",
       "      <td>12000</td>\n",
       "      <td>2023-04-15</td>\n",
       "    </tr>\n",
       "    <tr>\n",
       "      <th>3</th>\n",
       "      <td>38</td>\n",
       "      <td>Feminino</td>\n",
       "      <td>Pós-graduação</td>\n",
       "      <td>Outras</td>\n",
       "      <td>Serviços</td>\n",
       "      <td>Gestor</td>\n",
       "      <td>de R$ 12.001/mês a R$ 16.000/mês</td>\n",
       "      <td>Mais de 10 anos</td>\n",
       "      <td>16000</td>\n",
       "      <td>2021-04-06</td>\n",
       "    </tr>\n",
       "    <tr>\n",
       "      <th>4</th>\n",
       "      <td>36</td>\n",
       "      <td>Masculino</td>\n",
       "      <td>Pós-graduação</td>\n",
       "      <td>Outras Engenharias</td>\n",
       "      <td>Varejo</td>\n",
       "      <td>Gestor</td>\n",
       "      <td>de R$ 8.001/mês a R$ 12.000/mês</td>\n",
       "      <td>de 1 a 2 anos</td>\n",
       "      <td>12000</td>\n",
       "      <td>2023-03-22</td>\n",
       "    </tr>\n",
       "  </tbody>\n",
       "</table>\n",
       "</div>"
      ],
      "text/plain": [
       "   Idade     Genero   Nivel Ensino  \\\n",
       "0     38  Masculino  Pós-graduação   \n",
       "1     39  Masculino  Pós-graduação   \n",
       "2     30  Masculino  Pós-graduação   \n",
       "3     38   Feminino  Pós-graduação   \n",
       "4     36  Masculino  Pós-graduação   \n",
       "\n",
       "                                       Area Formacao        Setor   Nivel  \\\n",
       "0                                   Química / Física    Marketing  Gestor   \n",
       "1  Economia/ Administração / Contabilidade / Fina...  Consultoria  Gestor   \n",
       "2  Computação / Engenharia de Software / Sistemas...    Indústria  Gestor   \n",
       "3                                             Outras     Serviços  Gestor   \n",
       "4                                 Outras Engenharias       Varejo  Gestor   \n",
       "\n",
       "                     Faixa Salarial Anos experiencia  Faixa Salarial – numero  \\\n",
       "0    de R$ 4.001/mês a R$ 6.000/mês  Mais de 10 anos                     6000   \n",
       "1    de R$ 6.001/mês a R$ 8.000/mês    de 2 a 3 anos                     8000   \n",
       "2   de R$ 8.001/mês a R$ 12.000/mês    de 1 a 2 anos                    12000   \n",
       "3  de R$ 12.001/mês a R$ 16.000/mês  Mais de 10 anos                    16000   \n",
       "4   de R$ 8.001/mês a R$ 12.000/mês    de 1 a 2 anos                    12000   \n",
       "\n",
       "  Data ultimo aumento  \n",
       "0          2021-02-01  \n",
       "1          2021-06-04  \n",
       "2          2023-04-15  \n",
       "3          2021-04-06  \n",
       "4          2023-03-22  "
      ]
     },
     "execution_count": 44,
     "metadata": {},
     "output_type": "execute_result"
    }
   ],
   "source": [
    "# Resultado após inserção de nova coluna\n",
    "dados.head()"
   ]
  },
  {
   "cell_type": "markdown",
   "metadata": {},
   "source": [
    "---\n",
    "## Parte 4: Visualização dos resultados\n",
    "### O que queremos responder com esses dados?\n",
    "### 1. Distribuição do número de funcionários por sexo, nível de senioridade e nível de formação\n",
    "#### Podemos fazer um gráfico com a distribuição de homens e mulheres\n"
   ]
  },
  {
   "cell_type": "code",
   "execution_count": 45,
   "metadata": {},
   "outputs": [
    {
     "data": {
      "text/plain": [
       "Genero\n",
       "Masculino    979\n",
       "Feminino     406\n",
       "Name: count, dtype: int64"
      ]
     },
     "execution_count": 45,
     "metadata": {},
     "output_type": "execute_result"
    }
   ],
   "source": [
    "# Contagem do número de homens e mulheres na empresa\n",
    "dados['Genero'].value_counts()"
   ]
  },
  {
   "cell_type": "code",
   "execution_count": 46,
   "metadata": {},
   "outputs": [
    {
     "data": {
      "image/png": "[encoded data removed]",
      "text/plain": [
       "<Figure size 2000x1000 with 1 Axes>"
      ]
     },
     "metadata": {},
     "output_type": "display_data"
    }
   ],
   "source": [
    "# Gráfico da distribuição por gênero - plt é a biblioteca Matplotlib\n",
    "plt.figure(figsize=(20,10)) # Aumentar o tamanho da figura na saída dos dados\n",
    "grafico_1 = plt.bar(dados['Genero'].unique(), dados['Genero'].value_counts()) # plt.bar para gráfico de barras\n",
    "plt.title('Distribuição de funcionários - Homens e Mulheres', fontsize=16) # plt.title para inserir título no gráfico\n",
    "plt.ylabel('Total de funcionários', fontsize=16) # plt.ylabel para inserir titulo no gráfico\n",
    "\n",
    "# Aumentar o tamanho do texto dos eixos\n",
    "plt.xticks(fontsize = 14)\n",
    "plt.yticks(fontsize = 14)\n",
    "\n",
    "# Colocando o rótulo nas barras\n",
    "plt.bar_label(grafico_1, fmt=\"%.01f\", size=16, label_type=\"edge\");"
   ]
  },
  {
   "cell_type": "code",
   "execution_count": 47,
   "metadata": {},
   "outputs": [
    {
     "data": {
      "image/png": "[encoded data removed]",
      "text/plain": [
       "<Figure size 2000x1000 with 1 Axes>"
      ]
     },
     "metadata": {},
     "output_type": "display_data"
    }
   ],
   "source": [
    "# Gráfico da biblioteca sns - Seaborn\n",
    "\n",
    "# sns.countplot para criar gráfico de barras. Eixo X é a contagem (Número de valores), eixo Y é a coluna de ordenação\n",
    "# index para ordenar os valores\n",
    "plt.figure(figsize=(20, 10))\n",
    "sns.countplot(y=\"Genero\", data=dados, order=dados['Genero'].value_counts().index) \\\n",
    ".set_title(\"Distribuição de funcionários - Homens e Mulheres\"); # set.title para inserir nome do gráfico"
   ]
  },
  {
   "cell_type": "markdown",
   "metadata": {},
   "source": [
    "## De acordo com o nível de formação"
   ]
  },
  {
   "cell_type": "code",
   "execution_count": 48,
   "metadata": {},
   "outputs": [
    {
     "data": {
      "image/png": "[encoded data removed]",
      "text/plain": [
       "<Figure size 2000x1000 with 1 Axes>"
      ]
     },
     "metadata": {},
     "output_type": "display_data"
    }
   ],
   "source": [
    "plt.figure(figsize=(20,10))\n",
    "grafico_2 = plt.bar(dados['Nivel Ensino'].unique(), dados['Nivel Ensino'].value_counts())\n",
    "plt.title('Distribuição de funcionários por nível de formação', fontsize = 16) # Inserindo o título\n",
    "plt.ylabel('Total de funcionários', fontsize = 16) # Rótulo do eixo Y\n",
    "\n",
    "# Aumentar o tamanho do texto dos eixos\n",
    "plt.xticks(fontsize = 14)\n",
    "plt.yticks(fontsize = 14)\n",
    "\n",
    "# Colocando o rótulo nas barras\n",
    "plt.bar_label(grafico_2, fmt=\"%.01f\", size=16, label_type=\"edge\");"
   ]
  }
 ],
 "metadata": {
  "kernelspec": {
   "display_name": "Python 3",
   "language": "python",
   "name": "python3"
  },
  "language_info": {
   "codemirror_mode": {
    "name": "ipython",
    "version": 3
   },
   "file_extension": ".py",
   "mimetype": "text/x-python",
   "name": "python",
   "nbconvert_exporter": "python",
   "pygments_lexer": "ipython3",
   "version": "3.11.5"
  }
 },
 "nbformat": 4,
 "nbformat_minor": 2
}
